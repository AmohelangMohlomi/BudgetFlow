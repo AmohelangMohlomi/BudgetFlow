{
 "cells": [
  {
   "cell_type": "code",
   "execution_count": 3,
   "id": "203fef9c-f5e6-475b-9b6f-bb563bae2967",
   "metadata": {},
   "outputs": [],
   "source": [
    "# import the necessary libraries\n",
    "import pandas as pd\n",
    "import sqlite3\n"
   ]
  },
  {
   "cell_type": "markdown",
   "id": "bf6946cc-23f4-4a9c-9b0b-a4165995dc7a",
   "metadata": {},
   "source": [
    "# Extract data from the users database\n"
   ]
  },
  {
   "cell_type": "code",
   "execution_count": 10,
   "id": "513fbcf2-da96-429c-bf89-70ce5c35ed1a",
   "metadata": {},
   "outputs": [],
   "source": [
    "def extract_expenses(db_path='users.db'):\n",
    "    conn = sqlite3.connect(db_path)\n",
    " \n",
    "    # Read expenses data \n",
    "    expenses_df = pd.read_sql_query(\"\"\"\n",
    "        SELECT user_id, category, SUM(amount) as total_spent\n",
    "        FROM expenses\n",
    "        GROUP BY user_id, category\n",
    "    \"\"\", conn)\n",
    "\n",
    "    # Read budgets data\n",
    "    budgets_df = pd.read_sql_query(\"\"\"\n",
    "        SELECT user_id, category, amount as budgeted_amount\n",
    "        FROM budgets\n",
    "    \"\"\", conn)\n",
    "    conn.close()\n",
    "    return expenses_df, budgets_df"
   ]
  },
  {
   "cell_type": "code",
   "execution_count": 14,
   "id": "9e9b36ff-ee33-4a85-aa9b-ce90b9aaf053",
   "metadata": {},
   "outputs": [
    {
     "name": "stdout",
     "output_type": "stream",
     "text": [
      "None\n"
     ]
    }
   ],
   "source": [
    "\n"
   ]
  },
  {
   "cell_type": "code",
   "execution_count": null,
   "id": "8ea280d6-8291-4c9b-aee7-156165c3ea32",
   "metadata": {},
   "outputs": [],
   "source": []
  }
 ],
 "metadata": {
  "kernelspec": {
   "display_name": "Python 3 (ipykernel)",
   "language": "python",
   "name": "python3"
  },
  "language_info": {
   "codemirror_mode": {
    "name": "ipython",
    "version": 3
   },
   "file_extension": ".py",
   "mimetype": "text/x-python",
   "name": "python",
   "nbconvert_exporter": "python",
   "pygments_lexer": "ipython3",
   "version": "3.11.9"
  }
 },
 "nbformat": 4,
 "nbformat_minor": 5
}
